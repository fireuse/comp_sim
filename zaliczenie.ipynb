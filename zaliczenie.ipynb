{
 "cells": [
  {
   "cell_type": "code",
   "id": "initial_id",
   "metadata": {
    "collapsed": true,
    "ExecuteTime": {
     "end_time": "2025-05-04T17:15:16.787659Z",
     "start_time": "2025-05-04T17:15:15.578882Z"
    }
   },
   "source": [
    "import numpy as np\n",
    "import pandas as pd"
   ],
   "outputs": [],
   "execution_count": 2
  },
  {
   "metadata": {
    "ExecuteTime": {
     "end_time": "2025-05-04T19:25:06.359660Z",
     "start_time": "2025-05-04T19:25:02.928740Z"
    }
   },
   "cell_type": "code",
   "source": "df = pd.read_csv('train.csv')",
   "id": "faceec77a5f5bd6a",
   "outputs": [],
   "execution_count": 123
  },
  {
   "metadata": {
    "ExecuteTime": {
     "end_time": "2025-05-04T19:25:10.506465Z",
     "start_time": "2025-05-04T19:25:08.822560Z"
    }
   },
   "cell_type": "code",
   "source": [
    "df = np.array(df)\n",
    "np.random.shuffle(df)"
   ],
   "id": "c06fc26ec0bba9f7",
   "outputs": [],
   "execution_count": 124
  },
  {
   "metadata": {
    "ExecuteTime": {
     "end_time": "2025-05-04T19:25:12.159094Z",
     "start_time": "2025-05-04T19:25:12.148954Z"
    }
   },
   "cell_type": "code",
   "source": [
    "m, n = df.shape\n",
    "print(m , n)"
   ],
   "id": "ebc88180571bcbf9",
   "outputs": [
    {
     "name": "stdout",
     "output_type": "stream",
     "text": [
      "42000 785\n"
     ]
    }
   ],
   "execution_count": 125
  },
  {
   "metadata": {
    "ExecuteTime": {
     "end_time": "2025-05-04T19:25:15.619824Z",
     "start_time": "2025-05-04T19:25:15.422270Z"
    }
   },
   "cell_type": "code",
   "source": [
    "df_train = df[0:33600].T\n",
    "Y_train = df_train[0]\n",
    "X_train = df_train[1:n]\n",
    "X_train = X_train / 255\n",
    "# 80 / 20\n",
    "df_test = df[33600:m].T\n",
    "Y_test = df_test[0]\n",
    "X_test = df_test[1:n]\n",
    "X_test = X_test / 255"
   ],
   "id": "40164cffa76c4960",
   "outputs": [],
   "execution_count": 126
  },
  {
   "metadata": {
    "ExecuteTime": {
     "end_time": "2025-05-04T18:52:37.808442Z",
     "start_time": "2025-05-04T18:52:37.800640Z"
    }
   },
   "cell_type": "code",
   "source": [
    "def params_config():\n",
    "    n_input = 784  # Amount of pixels in an image\n",
    "    n_hidden = 64\n",
    "    n_output = 10  # Amount of classes\n",
    "\n",
    "    # W - Wagi\n",
    "    # b - \"biasy\"\n",
    "    W1 = np.random.rand(n_hidden,n_input) - 0.5\n",
    "    b1 = np.random.rand(n_hidden,1) - 0.5\n",
    "    W2 = np.random.rand(n_output,n_hidden) - 0.5\n",
    "    b2 = np.random.rand(n_output,1) - 0.5\n",
    "\n",
    "    print(\"X shape:\", X_train.shape)\n",
    "    print(\"W1 shape:\", W1.shape)\n",
    "    print(\"b1 shape:\", b1.shape)\n",
    "\n",
    "    return W1, b1, W2, b2"
   ],
   "id": "9fef8d95e50aa9fb",
   "outputs": [],
   "execution_count": 106
  },
  {
   "metadata": {
    "ExecuteTime": {
     "end_time": "2025-05-04T18:32:43.718841Z",
     "start_time": "2025-05-04T18:32:43.710172Z"
    }
   },
   "cell_type": "code",
   "source": [
    "def softmax(Z):\n",
    "    expZ = np.exp(Z- np.max(Z, axis=0, keepdims=True))\n",
    "    return expZ/np.sum(expZ,axis=0,keepdims=True)"
   ],
   "id": "6b0efec87025f371",
   "outputs": [],
   "execution_count": 59
  },
  {
   "metadata": {
    "ExecuteTime": {
     "end_time": "2025-05-04T18:41:06.382042Z",
     "start_time": "2025-05-04T18:41:06.375580Z"
    }
   },
   "cell_type": "code",
   "source": [
    "def ReLU(Z):\n",
    "    return np.maximum(0, Z)"
   ],
   "id": "62403a53476e698b",
   "outputs": [],
   "execution_count": 80
  },
  {
   "metadata": {
    "ExecuteTime": {
     "end_time": "2025-05-04T18:41:06.700379Z",
     "start_time": "2025-05-04T18:41:06.688612Z"
    }
   },
   "cell_type": "code",
   "source": [
    "def forward_propagation(W1, b1, W2, b2, X):\n",
    "    Z1 = np.dot(W1, X) + b1\n",
    "    A1 = ReLU(Z1)\n",
    "    Z2 = np.dot(W2, A1) + b2\n",
    "    A2 = softmax(Z2)\n",
    "    return Z1, A1, Z2, A2"
   ],
   "id": "2a355d315d6ee023",
   "outputs": [],
   "execution_count": 81
  },
  {
   "metadata": {
    "ExecuteTime": {
     "end_time": "2025-05-04T18:41:07.020306Z",
     "start_time": "2025-05-04T18:41:07.009506Z"
    }
   },
   "cell_type": "code",
   "source": [
    "def label_to_matrix(Y):\n",
    "    label_matrix = np.zeros((Y.size, Y.max() + 1)) # Jak mamy od 0 do 9 to Y.max()=9 więc + 1 by mieć 10 rzędów\n",
    "    label_matrix[np.arange(Y.size), Y] = 1 # W każdym rzędzie idziemy do pozycji z Y i zamieniamy na 1 bombastyczna sprawa\n",
    "    return label_matrix.T"
   ],
   "id": "dc690bf832a1209d",
   "outputs": [],
   "execution_count": 82
  },
  {
   "metadata": {
    "ExecuteTime": {
     "end_time": "2025-05-04T18:41:07.280862Z",
     "start_time": "2025-05-04T18:41:07.271499Z"
    }
   },
   "cell_type": "code",
   "source": [
    "def ReLU_derivative(Z):\n",
    "    return Z > 0"
   ],
   "id": "e9f9774058714cfc",
   "outputs": [],
   "execution_count": 83
  },
  {
   "metadata": {
    "ExecuteTime": {
     "end_time": "2025-05-04T18:41:09.427170Z",
     "start_time": "2025-05-04T18:41:09.420510Z"
    }
   },
   "cell_type": "code",
   "source": [
    "def back_propagation(Z1, A1, Z2, A2, W2, X, Y):\n",
    "    label_matrix = label_to_matrix(Y)\n",
    "    m = Y.size # liczba rzędów\n",
    "    dZ2 = A2 - label_matrix\n",
    "    dW2 = 1/m * np.dot(dZ2,A1.T)\n",
    "    db2 = 1/m * np.sum(dZ2, axis=1, keepdims=True)\n",
    "    dZ1 = np.dot(W2.T,dZ2) * ReLU_derivative(Z1)\n",
    "    dW1 = 1/m * np.dot(dZ1,X.T)\n",
    "    db1 = 1/m * np.sum(dZ1, axis=1, keepdims=True)\n",
    "    return dW1, db1, dW2, db2"
   ],
   "id": "93635bd88ce0c6c7",
   "outputs": [],
   "execution_count": 84
  },
  {
   "metadata": {
    "ExecuteTime": {
     "end_time": "2025-05-04T18:41:09.503505Z",
     "start_time": "2025-05-04T18:41:09.497624Z"
    }
   },
   "cell_type": "code",
   "source": [
    "def update_params(W1, b1, W2, b2, dW1, db1, dW2, db2, alpha):\n",
    "    W1 = W1 - alpha * dW1\n",
    "    b1 = b1 - alpha * db1\n",
    "    W2 = W2 - alpha * dW2\n",
    "    b2 = b2 - alpha * db2\n",
    "    return W1, b1, W2, b2"
   ],
   "id": "7b045a29f936c558",
   "outputs": [],
   "execution_count": 85
  },
  {
   "metadata": {
    "ExecuteTime": {
     "end_time": "2025-05-04T18:51:49.630236Z",
     "start_time": "2025-05-04T18:51:49.622946Z"
    }
   },
   "cell_type": "code",
   "source": [
    "def get_accuracy(A2, Y):\n",
    "    predictions = np.argmax(A2, axis=0)\n",
    "    return np.mean(predictions == Y)"
   ],
   "id": "b6619ab457e7f016",
   "outputs": [],
   "execution_count": 102
  },
  {
   "metadata": {
    "ExecuteTime": {
     "end_time": "2025-05-04T19:25:20.658970Z",
     "start_time": "2025-05-04T19:25:20.644527Z"
    }
   },
   "cell_type": "code",
   "source": [
    "def grad_descent(X,Y,epochs,alpha): \n",
    "    W1, b1, W2, b2 = params_config()\n",
    "    label_matrix = label_to_matrix(Y)\n",
    "    for i in range(epochs):\n",
    "        Z1, A1, Z2, A2 = forward_propagation(W1, b1, W2, b2, X)\n",
    "        dW1, db1, dW2, db2 = back_propagation(Z1, A1, Z2, A2, W2, X, Y)\n",
    "        W1, b1, W2, b2 = update_params(W1, b1, W2, b2, dW1, db1, dW2, db2, alpha)\n",
    "        if i % 50 == 0:\n",
    "            acc = get_accuracy(A2, Y)\n",
    "            print(f\"Epoch {i} |Accuracy: {acc:.4f}\")\n",
    "    return W1, b1, W2, b2"
   ],
   "id": "c75e336e9ba59844",
   "outputs": [],
   "execution_count": 127
  },
  {
   "metadata": {
    "ExecuteTime": {
     "end_time": "2025-05-04T19:31:32.703620Z",
     "start_time": "2025-05-04T19:25:21.479944Z"
    }
   },
   "cell_type": "code",
   "source": "W1, b1, W2, b2 = grad_descent(X_train,Y_train,2000,0.05)",
   "id": "53dbc072004cb5d8",
   "outputs": [
    {
     "name": "stdout",
     "output_type": "stream",
     "text": [
      "X shape: (784, 42000)\n",
      "W1 shape: (64, 784)\n",
      "b1 shape: (64, 1)\n",
      "Epoch 0 |Accuracy: 0.1236\n",
      "Epoch 50 |Accuracy: 0.5907\n",
      "Epoch 100 |Accuracy: 0.7046\n",
      "Epoch 150 |Accuracy: 0.7599\n",
      "Epoch 200 |Accuracy: 0.7907\n",
      "Epoch 250 |Accuracy: 0.8103\n",
      "Epoch 300 |Accuracy: 0.8249\n",
      "Epoch 350 |Accuracy: 0.8366\n",
      "Epoch 400 |Accuracy: 0.8460\n",
      "Epoch 450 |Accuracy: 0.8539\n",
      "Epoch 500 |Accuracy: 0.8601\n",
      "Epoch 550 |Accuracy: 0.8655\n",
      "Epoch 600 |Accuracy: 0.8690\n",
      "Epoch 650 |Accuracy: 0.8736\n",
      "Epoch 700 |Accuracy: 0.8772\n",
      "Epoch 750 |Accuracy: 0.8803\n",
      "Epoch 800 |Accuracy: 0.8834\n",
      "Epoch 850 |Accuracy: 0.8861\n",
      "Epoch 900 |Accuracy: 0.8885\n",
      "Epoch 950 |Accuracy: 0.8910\n",
      "Epoch 1000 |Accuracy: 0.8931\n",
      "Epoch 1050 |Accuracy: 0.8953\n",
      "Epoch 1100 |Accuracy: 0.8975\n",
      "Epoch 1150 |Accuracy: 0.8993\n",
      "Epoch 1200 |Accuracy: 0.9007\n",
      "Epoch 1250 |Accuracy: 0.9023\n",
      "Epoch 1300 |Accuracy: 0.9035\n",
      "Epoch 1350 |Accuracy: 0.9051\n",
      "Epoch 1400 |Accuracy: 0.9064\n",
      "Epoch 1450 |Accuracy: 0.9077\n",
      "Epoch 1500 |Accuracy: 0.9091\n",
      "Epoch 1550 |Accuracy: 0.9107\n",
      "Epoch 1600 |Accuracy: 0.9119\n",
      "Epoch 1650 |Accuracy: 0.9129\n",
      "Epoch 1700 |Accuracy: 0.9143\n",
      "Epoch 1750 |Accuracy: 0.9155\n",
      "Epoch 1800 |Accuracy: 0.9164\n",
      "Epoch 1850 |Accuracy: 0.9173\n",
      "Epoch 1900 |Accuracy: 0.9184\n",
      "Epoch 1950 |Accuracy: 0.9191\n"
     ]
    }
   ],
   "execution_count": 128
  },
  {
   "metadata": {
    "ExecuteTime": {
     "end_time": "2025-05-04T19:32:33.567733Z",
     "start_time": "2025-05-04T19:32:33.511029Z"
    }
   },
   "cell_type": "code",
   "source": [
    "Z1, A1, Z2, A2 = forward_propagation(W1, b1, W2, b2, X_test)\n",
    "print(get_accuracy(A2, Y_test))"
   ],
   "id": "faa8240c9c6b6806",
   "outputs": [
    {
     "name": "stdout",
     "output_type": "stream",
     "text": [
      "0.9196428571428571\n"
     ]
    }
   ],
   "execution_count": 131
  },
  {
   "metadata": {},
   "cell_type": "code",
   "outputs": [],
   "execution_count": null,
   "source": "",
   "id": "d29899f09a55ff70"
  }
 ],
 "metadata": {
  "kernelspec": {
   "display_name": "Python 3",
   "language": "python",
   "name": "python3"
  },
  "language_info": {
   "codemirror_mode": {
    "name": "ipython",
    "version": 2
   },
   "file_extension": ".py",
   "mimetype": "text/x-python",
   "name": "python",
   "nbconvert_exporter": "python",
   "pygments_lexer": "ipython2",
   "version": "2.7.6"
  }
 },
 "nbformat": 4,
 "nbformat_minor": 5
}
