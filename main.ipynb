{
 "cells": [
  {
   "cell_type": "code",
   "id": "initial_id",
   "metadata": {
    "collapsed": true,
    "ExecuteTime": {
     "end_time": "2025-04-20T16:17:38.548885Z",
     "start_time": "2025-04-20T16:17:38.545539Z"
    }
   },
   "source": [
    "import numpy as np\n",
    "import matplotlib.pyplot as plt\n",
    "\n",
    "# synthetic dataset - point inside unit circle\n",
    "data = np.random.uniform(-1, 1, size=(10000, 2))\n",
    "labels = np.sum(data ** 2, axis=1) <= 1"
   ],
   "outputs": [],
   "execution_count": 44
  },
  {
   "metadata": {
    "ExecuteTime": {
     "end_time": "2025-04-20T16:49:10.450289Z",
     "start_time": "2025-04-20T16:49:03.759974Z"
    }
   },
   "cell_type": "code",
   "source": [
    "def sigmoid(x):\n",
    "    return 1 / (1 + np.exp(-x))\n",
    "\n",
    "\n",
    "def d_sigmoid(x):\n",
    "    return x * (1 - x)\n",
    "\n",
    "\n",
    "def error(y_true, y_pred):\n",
    "    return np.mean((y_true - y_pred) ** 2) / 2  # this error suck for classification but it works\n",
    "\n",
    "\n",
    "def d_error(y_true, y_pred):\n",
    "    return y_pred - y_true\n",
    "\n",
    "\n",
    "lr = 0.1\n",
    "weights_inp = np.random.randn(2, 256)\n",
    "weights_out = np.random.randn(256, 1)\n",
    "\n",
    "\n",
    "def net(x):\n",
    "    x1 = sigmoid(x @ weights_inp)\n",
    "    x2 = sigmoid(x1 @ weights_out)\n",
    "    return x1, x2\n",
    "\n",
    "\n",
    "# forward pass\n",
    "for i in range(100):\n",
    "    x1, x2 = net(data)\n",
    "\n",
    "    loss = error(x2, labels)\n",
    "    print(loss)\n",
    "    acc = np.sum(x2 > 0.5) / 10000\n",
    "    print(acc)\n",
    "    # averaging over batch\n",
    "    x1 = np.mean(x1, axis=0)\n",
    "    x2 = np.mean(x2, axis=0)\n",
    "    data_v = np.mean(data, axis=0)\n",
    "\n",
    "    #backward - last layer\n",
    "    dedy = np.mean(d_error(labels, x2), axis=0)\n",
    "    dedx = dedy * d_sigmoid(x2)  # eq 4\n",
    "    dedw_l2 = np.outer(x1, dedx)  # eq 5\n",
    "\n",
    "    # backward - first layer input\n",
    "    dedy = dedx @ weights_out.T\n",
    "\n",
    "    # backward - first layer\n",
    "    dedx = dedy * d_sigmoid(x1)\n",
    "    dedw_l1 = np.outer(data_v, dedx)\n",
    "\n",
    "    # descent\n",
    "    weights_inp -= dedw_l1 * lr\n",
    "    weights_out -= dedw_l2 * lr\n"
   ],
   "id": "2f825a3c68c10a6c",
   "outputs": [
    {
     "name": "stdout",
     "output_type": "stream",
     "text": [
      "0.38569386374967235\n",
      "0.0\n",
      "0.3852244876993103\n",
      "0.0\n",
      "0.38470335296852654\n",
      "0.0\n",
      "0.38412165920333685\n",
      "0.0\n",
      "0.38346854308336026\n",
      "0.0\n",
      "0.3827304507901986\n",
      "0.0\n",
      "0.3818902720062607\n",
      "0.0\n",
      "0.3809261251569174\n",
      "0.0\n",
      "0.37980962273106833\n",
      "0.0\n",
      "0.3785033451576903\n",
      "0.0\n",
      "0.37695708222991847\n",
      "0.0\n",
      "0.3751021074244402\n",
      "0.0\n",
      "0.37284222801435135\n",
      "0.0\n",
      "0.3700393992815268\n",
      "0.0\n",
      "0.3664899037063261\n",
      "0.0\n",
      "0.3618836896741735\n",
      "0.0\n",
      "0.35573297794713293\n",
      "0.0\n",
      "0.34724451786206195\n",
      "0.0\n",
      "0.3350931463994508\n",
      "0.0\n",
      "0.3170577087191422\n",
      "0.0\n",
      "0.28966946243929254\n",
      "0.0\n",
      "0.24906729482047033\n",
      "0.0061\n",
      "0.19670319032614433\n",
      "0.2253\n",
      "0.14808216023432674\n",
      "0.4574\n",
      "0.11926180332581464\n",
      "0.6416\n",
      "0.10611004051121592\n",
      "0.7587\n",
      "0.09992289870450348\n",
      "0.8419\n",
      "0.09666132711547291\n",
      "0.8958\n",
      "0.09476292107665865\n",
      "0.937\n",
      "0.0935718110046917\n",
      "0.9634\n",
      "0.09278095717812596\n",
      "0.9755\n",
      "0.09223253051815983\n",
      "0.9843\n",
      "0.0918390441101931\n",
      "0.99\n",
      "0.09154896082201787\n",
      "0.9922\n",
      "0.09133037278744095\n",
      "0.9936\n",
      "0.09116269153156728\n",
      "0.9949\n",
      "0.09103216094097488\n",
      "0.9955\n",
      "0.09092931175857591\n",
      "0.9962\n",
      "0.09084745556238438\n",
      "0.9966\n",
      "0.09078176095390375\n",
      "0.9969\n",
      "0.09072866877052797\n",
      "0.9971\n"
     ]
    },
    {
     "ename": "KeyboardInterrupt",
     "evalue": "",
     "output_type": "error",
     "traceback": [
      "\u001B[0;31m---------------------------------------------------------------------------\u001B[0m",
      "\u001B[0;31mKeyboardInterrupt\u001B[0m                         Traceback (most recent call last)",
      "Cell \u001B[0;32mIn [112], line 25\u001B[0m\n\u001B[1;32m     23\u001B[0m \u001B[38;5;66;03m# forward pass\u001B[39;00m\n\u001B[1;32m     24\u001B[0m \u001B[38;5;28;01mfor\u001B[39;00m i \u001B[38;5;129;01min\u001B[39;00m \u001B[38;5;28mrange\u001B[39m(\u001B[38;5;241m100\u001B[39m):\n\u001B[0;32m---> 25\u001B[0m     x1, x2 \u001B[38;5;241m=\u001B[39m \u001B[43mnet\u001B[49m\u001B[43m(\u001B[49m\u001B[43mdata\u001B[49m\u001B[43m)\u001B[49m\n\u001B[1;32m     27\u001B[0m     loss \u001B[38;5;241m=\u001B[39m error(x2, labels)\n\u001B[1;32m     28\u001B[0m     \u001B[38;5;28mprint\u001B[39m(loss)\n",
      "Cell \u001B[0;32mIn [112], line 19\u001B[0m, in \u001B[0;36mnet\u001B[0;34m(x)\u001B[0m\n\u001B[1;32m     17\u001B[0m \u001B[38;5;28;01mdef\u001B[39;00m \u001B[38;5;21mnet\u001B[39m(x):\n\u001B[1;32m     18\u001B[0m     x1 \u001B[38;5;241m=\u001B[39m sigmoid(x \u001B[38;5;241m@\u001B[39m weights_inp)\n\u001B[0;32m---> 19\u001B[0m     x2 \u001B[38;5;241m=\u001B[39m \u001B[43msigmoid\u001B[49m\u001B[43m(\u001B[49m\u001B[43mx1\u001B[49m\u001B[43m \u001B[49m\u001B[38;5;241;43m@\u001B[39;49m\u001B[43m \u001B[49m\u001B[43mweights_out\u001B[49m\u001B[43m)\u001B[49m\n\u001B[1;32m     20\u001B[0m     \u001B[38;5;28;01mreturn\u001B[39;00m x1, x2\n",
      "Cell \u001B[0;32mIn [112], line 1\u001B[0m, in \u001B[0;36msigmoid\u001B[0;34m(x)\u001B[0m\n\u001B[0;32m----> 1\u001B[0m \u001B[38;5;28;01mdef\u001B[39;00m \u001B[38;5;21msigmoid\u001B[39m(x):\n\u001B[1;32m      2\u001B[0m     \u001B[38;5;28;01mreturn\u001B[39;00m \u001B[38;5;241m1\u001B[39m \u001B[38;5;241m/\u001B[39m (\u001B[38;5;241m1\u001B[39m \u001B[38;5;241m+\u001B[39m np\u001B[38;5;241m.\u001B[39mexp(\u001B[38;5;241m-\u001B[39mx))\n\u001B[1;32m      4\u001B[0m \u001B[38;5;28;01mdef\u001B[39;00m \u001B[38;5;21md_sigmoid\u001B[39m(x):\n",
      "\u001B[0;31mKeyboardInterrupt\u001B[0m: "
     ]
    }
   ],
   "execution_count": 112
  },
  {
   "metadata": {
    "ExecuteTime": {
     "end_time": "2025-04-20T16:30:19.910578Z",
     "start_time": "2025-04-20T16:30:19.908062Z"
    }
   },
   "cell_type": "code",
   "source": "dedw_l2.shape",
   "id": "43d816391d52575e",
   "outputs": [
    {
     "data": {
      "text/plain": [
       "(128,)"
      ]
     },
     "execution_count": 63,
     "metadata": {},
     "output_type": "execute_result"
    }
   ],
   "execution_count": 63
  },
  {
   "metadata": {
    "ExecuteTime": {
     "end_time": "2025-04-20T16:30:30.783257Z",
     "start_time": "2025-04-20T16:30:30.780655Z"
    }
   },
   "cell_type": "code",
   "source": "weights_out.shape",
   "id": "fc113ff1df7120b3",
   "outputs": [
    {
     "data": {
      "text/plain": [
       "(128, 1)"
      ]
     },
     "execution_count": 64,
     "metadata": {},
     "output_type": "execute_result"
    }
   ],
   "execution_count": 64
  },
  {
   "metadata": {},
   "cell_type": "code",
   "outputs": [],
   "execution_count": null,
   "source": "",
   "id": "30f25c9a4bc4b2a"
  }
 ],
 "metadata": {
  "kernelspec": {
   "display_name": "Python 3",
   "language": "python",
   "name": "python3"
  },
  "language_info": {
   "codemirror_mode": {
    "name": "ipython",
    "version": 2
   },
   "file_extension": ".py",
   "mimetype": "text/x-python",
   "name": "python",
   "nbconvert_exporter": "python",
   "pygments_lexer": "ipython2",
   "version": "2.7.6"
  }
 },
 "nbformat": 4,
 "nbformat_minor": 5
}
